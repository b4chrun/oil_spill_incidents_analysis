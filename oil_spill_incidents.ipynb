import pandas as pd
import matplotlib.pyplot as plt
import folium
from folium.plugins import HeatMap
import seaborn as sns

#read the database file
data = pd.read_csv('incidents.csv')
data.info()
data.head()

#Sort oil spill incidents based on the number of oil spill incidents from biggest to lowest

data['tahun']= data['open_date'].str.split('-').str[0]
tahun_sorted = data['tahun'].value_counts(ascending=False).index
fig, count = plt.subplots(figsize=(15,10))
count = sns.countplot(x=data['tahun'], order=tahun_sorted)
count.tick_params(axis='x', labelrotation=45)
plt.tight_layout()
plt.savefig("Oil_incidents_sorted", dpi=300, bbox_inches='tight')
plt.show()

#Create plot for oil spill incidents per year

fig, count = plt.subplots(figsize=(15,10))
count = sns.countplot(x=data['tahun'])
count.tick_params(axis='x', labelrotation=45)
plt.tight_layout()
plt.savefig("Oil_incidents_per_year", dpi=300, bbox_inches='tight')
plt.show()

#Create a heatmap for location of oil spill incidents
map_center = folium.Map()
map_center

map_data = data[['lat','lon']].values.tolist()
hm = HeatMap(map_data, min_opacity=0.09, max_opacity=0.9, radius=25).add_to(map_center)
map_center

data['location'] = data['location'].fillna('')
data['location'].isna().sum()

data['Country'] = data['location'].str.split(',').str[-1:]
data['Country']

#Change data in the country column from list to text
data['Country'] = data['Country'].apply(lambda x: ''.join(x))
data['Country']

data['Country'] = data['Country'].rename({'LA':'Los Angeles','CA':'California','TX':'Texas','AK':'Alaska','OR':'Oregon','FL':'Florida','WA':'Washington'})
data['Country']

#Create plot for the top 15 locatioins of oil spill incidents
tick_positions = [0,1,2,3,4,5,6,7,8,9,10,11,12,13,14]
tick_labels = ['USA','Los Angeles','Canada','Alaska','Washington','Texas','Alaska','Florida','California','Louisiana','New York','Massachusetts','Oregon','Gulf of Mexico','Virginia']
country_sorted = data['Country'].value_counts(ascending=False).index
fig, count = plt.subplots(figsize=(15,10))
count = sns.countplot(x=data['Country'], order=country_sorted[:15])
count.tick_params(axis='x', labelrotation=45)
count.set_xticks(tick_positions, tick_labels)
plt.tight_layout()
plt.savefig("Oil_incidents_per_country", dpi=300, bbox_inches='tight')
plt.show()

